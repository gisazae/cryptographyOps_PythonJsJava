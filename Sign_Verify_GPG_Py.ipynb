{
  "nbformat": 4,
  "nbformat_minor": 0,
  "metadata": {
    "colab": {
      "provenance": []
    },
    "kernelspec": {
      "name": "python3",
      "display_name": "Python 3"
    },
    "language_info": {
      "name": "python"
    }
  },
  "cells": [
    {
      "cell_type": "code",
      "execution_count": 2,
      "metadata": {
        "colab": {
          "base_uri": "https://localhost:8080/"
        },
        "id": "YO1e1Q7JkBVY",
        "outputId": "9b704c65-e696-41af-aca4-13af8c9595e2"
      },
      "outputs": [
        {
          "output_type": "stream",
          "name": "stdout",
          "text": [
            "Collecting python-gnupg\n",
            "  Downloading python_gnupg-0.5.3-py2.py3-none-any.whl.metadata (1.9 kB)\n",
            "Downloading python_gnupg-0.5.3-py2.py3-none-any.whl (21 kB)\n",
            "Installing collected packages: python-gnupg\n",
            "Successfully installed python-gnupg-0.5.3\n"
          ]
        }
      ],
      "source": [
        "!pip3 install python-gnupg"
      ]
    },
    {
      "cell_type": "code",
      "source": [
        "import gnupg\n",
        "\n",
        "# Inicializar GPG\n",
        "gpg = gnupg.GPG()\n",
        "\n",
        "# Configurar rutas de las claves (opcional, usa la configuración predeterminada si no se especifica)\n",
        "# gpg = gnupg.GPG(gnupghome='/ruta/a/tu/gpg_home')\n",
        "\n",
        "# Crear claves (si no tienes ya creadas)\n",
        "def generate_keys():\n",
        "    input_data = gpg.gen_key_input(\n",
        "        name_email=\"g@g.com\",\n",
        "        passphrase=\"testing\"\n",
        "    )\n",
        "    key = gpg.gen_key(input_data)\n",
        "    print(f\"Clave generada: {key.fingerprint}\")\n",
        "    return key\n",
        "\n",
        "# Firmar un mensaje\n",
        "def sign_message(message, key_fingerprint, passphrase):\n",
        "    signed_data = gpg.sign(message, keyid=key_fingerprint, passphrase=passphrase)\n",
        "    if signed_data:\n",
        "        print(\"Mensaje firmado exitosamente.\")\n",
        "        return str(signed_data)\n",
        "    else:\n",
        "        print(\"Error al firmar el mensaje.\")\n",
        "        return None\n",
        "\n",
        "# Verificar un mensaje firmado\n",
        "def verify_message(signed_message):\n",
        "    verified = gpg.verify(signed_message)\n",
        "    if verified:\n",
        "        print(\"Mensaje verificado exitosamente.\")\n",
        "        print(f\"Firmado por: {verified.username}\")\n",
        "        return True\n",
        "    else:\n",
        "        print(\"No se pudo verificar el mensaje.\")\n",
        "        return False\n",
        "\n",
        "if __name__ == \"__main__\":\n",
        "    # Generar claves si no existen\n",
        "    key = generate_keys()\n",
        "\n",
        "    # Configurar tus claves existentes\n",
        "    key_fingerprint = \"4C8AC12C7C92FF9B4958E7BED0EED10F5B75D312\"  # Reemplaza con el fingerprint de tu clave\n",
        "    passphrase = \"testing\"  # Reemplaza con tu contraseña\n",
        "\n",
        "    # Mensaje a firmar\n",
        "    message = \"Este es un mensaje importante que debe ser firmado.\"\n",
        "\n",
        "    # Firmar el mensaje\n",
        "    signed_message = sign_message(message, key_fingerprint, passphrase)\n",
        "    print(f\"Mensaje firmado:\\n{signed_message}\")\n",
        "\n",
        "    # Verificar el mensaje firmado\n",
        "    if signed_message:\n",
        "        verify_message(signed_message)"
      ],
      "metadata": {
        "colab": {
          "base_uri": "https://localhost:8080/"
        },
        "id": "CjhEoIU0kDG5",
        "outputId": "6f79fa26-e1c8-4735-d651-61fb0831e293"
      },
      "execution_count": 4,
      "outputs": [
        {
          "output_type": "stream",
          "name": "stdout",
          "text": [
            "Clave generada: B09451BFF96CB34A986FDC40EB54FD7D94CAC95E\n",
            "Mensaje firmado exitosamente.\n",
            "Mensaje firmado:\n",
            "-----BEGIN PGP SIGNED MESSAGE-----\n",
            "Hash: SHA512\n",
            "\n",
            "Este es un mensaje importante que debe ser firmado.\n",
            "-----BEGIN PGP SIGNATURE-----\n",
            "\n",
            "iQEzBAEBCgAdFiEETIrBLHyS/5tJWOe+0O7RD1t10xIFAmdImUkACgkQ0O7RD1t1\n",
            "0xKiRQf+Pw3jpFd7FmFnOBVuQc/Q7mNaMhd+AOJawINpoKDlS6c+4J0qBUZX+Nj6\n",
            "bo4hrsjkysnuuOuJmofkc025eybD6OP0ERh9VFbU0T4yz/CdmZ4TYr0JsQpEZYM5\n",
            "lZWLt5EObcFsLVRam0BAHMWkui3bPjExBrM65Z09VmUUmku0EOeQQdCdQTzvc1Cn\n",
            "OAdCxCgLc1v005M4ImmkkQC2/hzKTAjM91l6H0gjSk23Tf/T5eFq3786xizrmTW7\n",
            "l7ZLCdCS5n1hqlRln3WYcIThjJ8LnpCvkRgXABMW1a9YeKk83y2eq+TBhq9OFR2a\n",
            "ehkPk654s6xDomhl1xDl+xUJSqzsIw==\n",
            "=p++5\n",
            "-----END PGP SIGNATURE-----\n",
            "\n",
            "Mensaje verificado exitosamente.\n",
            "Firmado por: Autogenerated Key <g@g.com>\n"
          ]
        }
      ]
    }
  ]
}